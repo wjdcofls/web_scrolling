{
 "cells": [
  {
   "cell_type": "code",
   "execution_count": null,
   "metadata": {},
   "outputs": [],
   "source": [
    "# pandas 모듈 활용하기\n",
    "import pandas as pd\n",
    "\n",
    "member1 = { '번호' : ['1','2','3'],\n",
    "            '이름' : ['기동', '진수', '정일'],\n",
    "            '생일' : ['2000', '1999', '2001']}\n",
    "# print(member1)\n",
    "# print(type(member1))\n",
    "\n",
    "dt_result = pd.DataFrame(member1)\n",
    "dt_result"
   ]
  },
  {
   "cell_type": "code",
   "execution_count": null,
   "metadata": {},
   "outputs": [],
   "source": [
    "data_ex1 = pd.read_excel(\"c:/py_temp/부품구입대장2.xls\")\n",
    "data_ex1"
   ]
  }
 ],
 "metadata": {
  "interpreter": {
   "hash": "19d1d53a962d236aa061289c2ac16dc8e6d9648c89fe79f459ae9a3493bc67b4"
  },
  "kernelspec": {
   "display_name": "Python 3.9.5 ('base')",
   "language": "python",
   "name": "python3"
  },
  "language_info": {
   "codemirror_mode": {
    "name": "ipython",
    "version": 3
   },
   "file_extension": ".py",
   "mimetype": "text/x-python",
   "name": "python",
   "nbconvert_exporter": "python",
   "pygments_lexer": "ipython3",
   "version": "3.9.5"
  },
  "orig_nbformat": 4
 },
 "nbformat": 4,
 "nbformat_minor": 2
}
