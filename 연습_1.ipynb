{
 "cells": [
  {
   "cell_type": "code",
   "execution_count": null,
   "metadata": {},
   "outputs": [],
   "source": [
    "print(\"Hello Python!\")"
   ]
  },
  {
   "cell_type": "code",
   "execution_count": null,
   "metadata": {},
   "outputs": [],
   "source": [
    "# 변수의 활용\n",
    "var1 = 6\n",
    "var2 = 5\n",
    "print(var1 + var2)\n",
    "print(id(var1))\n",
    "print(id(var2))"
   ]
  },
  {
   "cell_type": "code",
   "execution_count": null,
   "metadata": {},
   "outputs": [],
   "source": [
    "# 변수의 활용 2\n",
    "var3 = 3\n",
    "var4 = \"오늘 날씨 좋아요\"\n",
    "print(type(var3))\n",
    "print(type(var4))"
   ]
  },
  {
   "cell_type": "code",
   "execution_count": null,
   "metadata": {},
   "outputs": [],
   "source": [
    "# 함수의 실습\n",
    "print(\"결과는\", pow(3,2))\n",
    "print(sum([1,2]))"
   ]
  },
  {
   "cell_type": "code",
   "execution_count": null,
   "metadata": {},
   "outputs": [],
   "source": [
    "# 1~100 까지 더하는 프로그램을 한 줄로 작성하시오!\n",
    "# print(sum(list(range(1,101))))\n",
    "# print(sum(range(1,101)))\n",
    "\n",
    "# 리스트의 개념\n",
    "ex1 = list(range(1,10))\n",
    "print(ex1)"
   ]
  },
  {
   "cell_type": "code",
   "execution_count": null,
   "metadata": {},
   "outputs": [],
   "source": [
    "# 주피터노트북은 마지막 결과만 출력\n",
    "1+1\n",
    "1+2"
   ]
  },
  {
   "cell_type": "code",
   "execution_count": null,
   "metadata": {},
   "outputs": [],
   "source": [
    "# 프린트 함수는 결과를 모두 출력\n",
    "print(1+1)\n",
    "print(1+2)"
   ]
  },
  {
   "cell_type": "code",
   "execution_count": null,
   "metadata": {},
   "outputs": [],
   "source": [
    "# input 함수의 활용(1)\n",
    "no1 = int(input())\n",
    "no2 = int(input())\n",
    "print(no1 + no2)"
   ]
  },
  {
   "cell_type": "code",
   "execution_count": null,
   "metadata": {},
   "outputs": [],
   "source": [
    "# input 함수의 활용(2)\n",
    "no1 = input()\n",
    "no2 = input()\n",
    "print(int(no1) + int(no2))"
   ]
  },
  {
   "cell_type": "code",
   "execution_count": null,
   "metadata": {},
   "outputs": [],
   "source": [
    "# 함수의 호출\n",
    "import math\n",
    "\n",
    "print(math.sqrt(12))\n",
    "print(int(math.sqrt(12)))\n",
    "print(round(math.sqrt(12), 3))"
   ]
  },
  {
   "cell_type": "code",
   "execution_count": null,
   "metadata": {},
   "outputs": [],
   "source": [
    "# 참고 : 함수가 아닌 것도 있다~\n",
    "# statement : 실행 가능한 코드 조각\n",
    "print(math.pi)"
   ]
  },
  {
   "cell_type": "code",
   "execution_count": null,
   "metadata": {},
   "outputs": [],
   "source": []
  },
  {
   "cell_type": "code",
   "execution_count": null,
   "metadata": {},
   "outputs": [],
   "source": [
    "# 큰따옴표와 작은따옴표의 활용\n",
    "print(\"쌍따옴표\")\n",
    "print('쌍따옴표')\n",
    "print(\"쌍따옴표 안에 '홑 따옴표' \")\n",
    "print('홑은 따옴표 안에 \"쌍따옴표\" ')"
   ]
  },
  {
   "cell_type": "code",
   "execution_count": null,
   "metadata": {},
   "outputs": [],
   "source": [
    "sum([pow(3,2) , pow(3,2)])"
   ]
  },
  {
   "cell_type": "code",
   "execution_count": null,
   "metadata": {},
   "outputs": [],
   "source": [
    "import math\n",
    "int(sum([ math.sqrt(4), math.sqrt(4) ]))"
   ]
  },
  {
   "cell_type": "code",
   "execution_count": null,
   "metadata": {},
   "outputs": [],
   "source": [
    "# 1~100 까지 더하는 프로그램을 한 줄로 작성하시오!\n",
    "print(sum(list(range(1,101))))\n",
    "print(sum(list(range(101))))\n",
    "print(sum(list(range(100+1))))"
   ]
  },
  {
   "cell_type": "code",
   "execution_count": null,
   "metadata": {},
   "outputs": [],
   "source": [
    "# 변수와 함수의 호출\n",
    "str1 = \" 오늘 점심 짜장면\"\n",
    "print(str1.lstrip())\n",
    "print(str1.isnumeric())\n",
    "print(str1.replace('짜장면', '짬뽕'))"
   ]
  },
  {
   "cell_type": "code",
   "execution_count": null,
   "metadata": {},
   "outputs": [],
   "source": [
    "# 리스트 유형의 이해\n",
    "list1 = [1, 2, '삼', 4.5, 5]\n",
    "print(list1)\n",
    "print(type(list1)) # 변수의 유형 확인\n",
    "\n",
    "print(list1[0])\n",
    "print(list1[0:3])\n",
    "print(list1[0:2+1])"
   ]
  },
  {
   "cell_type": "code",
   "execution_count": null,
   "metadata": {},
   "outputs": [],
   "source": [
    "# 리스트 유형의 이해\n",
    "list2 = [1, 2, '삼', 4.5, 5]\n",
    "del list2[2]\n",
    "print(list2)\n"
   ]
  },
  {
   "cell_type": "code",
   "execution_count": null,
   "metadata": {},
   "outputs": [],
   "source": [
    "# if 조건문의 이해\n",
    "name = input(\"이름을 입력하세요 : \")\n",
    "\n",
    "if name == \"손기동\" :\n",
    "    print(f\"{name} 맞습니다\")\n",
    "    print(\"잘생겼어요!\")\n",
    "else :\n",
    "    print(\"넌 누구냐?\")"
   ]
  },
  {
   "cell_type": "code",
   "execution_count": null,
   "metadata": {},
   "outputs": [],
   "source": [
    "# print 함수의 이해(1)\n",
    "name1 = \"손기동\"\n",
    "print(\"이름은\", name1, \"입니다\")\n",
    "print(f\"이름은 {name1} 입니다\")\n",
    "print(\"이름은 {} 입니다\" .format(name1))\n",
    "print(\"이름은 %s 입니다\" %name1)"
   ]
  },
  {
   "cell_type": "code",
   "execution_count": 27,
   "metadata": {},
   "outputs": [
    {
     "name": "stdout",
     "output_type": "stream",
     "text": [
      "3 + 2 = 5\n",
      "3 + 2 = 5\n",
      "3 + 2 = 5\n"
     ]
    }
   ],
   "source": [
    "# print 함수의 이해(2)\n",
    "no1, no2 = 3, 2 # no1, no2 각각에 3, 2 값을 대응\n",
    "hap = no1 + no2\n",
    "\n",
    "print(f\"{no1} + {no2} = {hap}\") # f 다음에 공백 없음\n",
    "print(\"{} + {} = {}\" .format(no1, no2, hap))\n",
    "print(\"%s + %s = %s\" %(no1, no2, hap))"
   ]
  },
  {
   "cell_type": "code",
   "execution_count": 43,
   "metadata": {},
   "outputs": [
    {
     "name": "stdout",
     "output_type": "stream",
     "text": [
      " S 등급입니다!\n"
     ]
    }
   ],
   "source": [
    "jumsu = float(input(\"점수를 입력하세요: \"))\n",
    "\n",
    "if jumsu > 100 :\n",
    "    print(\" S 등급입니다!\")\n",
    "elif jumsu >= 91 and jumsu <= 100 :\n",
    "    print(\" A 등급입니다!\")\n",
    "elif jumsu >= 81 and jumsu <= 90.9 :\n",
    "    print(\" B 등급입니다!\")\n",
    "elif jumsu >= 71 and jumsu <= 80.9 :\n",
    "    print(\" C 등급입니다!\")\n",
    "else :\n",
    "    print(\" D 등급입니다!\")"
   ]
  },
  {
   "cell_type": "code",
   "execution_count": 44,
   "metadata": {},
   "outputs": [
    {
     "name": "stdout",
     "output_type": "stream",
     "text": [
      "손기동 운동장 돌아\n",
      "서진수 운동장 돌아\n",
      "강정일 운동장 돌아\n"
     ]
    }
   ],
   "source": [
    "# 반복문의 이해\n",
    "print(\"손기동 운동장 돌아\")\n",
    "print(\"서진수 운동장 돌아\")\n",
    "print(\"강정일 운동장 돌아\")"
   ]
  },
  {
   "cell_type": "code",
   "execution_count": 52,
   "metadata": {},
   "outputs": [
    {
     "name": "stdout",
     "output_type": "stream",
     "text": [
      "손기동 운동장 돌아\n",
      "서진수 운동장 돌아\n",
      "강정일 운동장 돌아\n"
     ]
    }
   ],
   "source": [
    "for i in ['손기동', '서진수', '강정일'] :\n",
    "    print(f\"{i} 운동장 돌아\")"
   ]
  },
  {
   "cell_type": "code",
   "execution_count": 49,
   "metadata": {},
   "outputs": [
    {
     "name": "stdout",
     "output_type": "stream",
     "text": [
      "3 x 1 = 3\n",
      "3 x 2 = 6\n",
      "3 x 3 = 9\n",
      "3 x 4 = 12\n",
      "3 x 5 = 15\n",
      "3 x 6 = 18\n",
      "3 x 7 = 21\n",
      "3 x 8 = 24\n",
      "3 x 9 = 27\n"
     ]
    }
   ],
   "source": [
    "for 변수 in range(1,9+1) :\n",
    "    print(f\"3 x {변수} = {3 * 변수}\")"
   ]
  },
  {
   "cell_type": "code",
   "execution_count": 59,
   "metadata": {},
   "outputs": [
    {
     "name": "stdout",
     "output_type": "stream",
     "text": [
      "<class 'list'>\n",
      "<class 'tuple'>\n",
      "<class 'set'>\n",
      "<class 'int'>\n"
     ]
    }
   ],
   "source": [
    "ex1 = [1,2,3]\n",
    "ex2 = (1,2,3)\n",
    "ex3 = {1,2,3}\n",
    "ex4 = 3\n",
    "\n",
    "print(type(ex1))\n",
    "print(type(ex2))\n",
    "print(type(ex3))\n",
    "print(type(ex4))"
   ]
  },
  {
   "cell_type": "code",
   "execution_count": null,
   "metadata": {},
   "outputs": [],
   "source": [
    "# 조건 반복문(while)\n",
    "# 무한반복!\n",
    "import time\n",
    "\n",
    "while True :\n",
    "    time.sleep(2)\n",
    "    print(\"파이썬 너무 재밌어요\")"
   ]
  }
 ],
 "metadata": {
  "interpreter": {
   "hash": "5a356e9517e14dc2ad259a2123438b15b3972e1e2b3dbfde245c14a47e88b3a8"
  },
  "kernelspec": {
   "display_name": "Python 3.9.12 ('base')",
   "language": "python",
   "name": "python3"
  },
  "language_info": {
   "codemirror_mode": {
    "name": "ipython",
    "version": 3
   },
   "file_extension": ".py",
   "mimetype": "text/x-python",
   "name": "python",
   "nbconvert_exporter": "python",
   "pygments_lexer": "ipython3",
   "version": "3.9.12"
  },
  "orig_nbformat": 4
 },
 "nbformat": 4,
 "nbformat_minor": 2
}
