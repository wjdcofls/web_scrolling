{
 "cells": [
  {
   "cell_type": "code",
   "execution_count": null,
   "metadata": {},
   "outputs": [],
   "source": [
    "import numpy as np\n",
    "\n",
    "# numpy로 배열(array) 만들기\n",
    "data1 = [1, 2, 3, 4, 5]\n",
    "array1 = np.array(data1)\n",
    "\n",
    "print(array1)\n",
    "print(type(array1))\n",
    "print(array1.shape)"
   ]
  },
  {
   "cell_type": "code",
   "execution_count": null,
   "metadata": {},
   "outputs": [],
   "source": [
    "# 이상치에 의한 데이터 변형(주의)\n",
    "data2 = [1, 2, 3, 4, 5.5]\n",
    "array2 = np.array(data2)\n",
    "print(array2)"
   ]
  },
  {
   "cell_type": "code",
   "execution_count": null,
   "metadata": {},
   "outputs": [],
   "source": [
    "# 이상치에 의한 데이터 변형(주의)\n",
    "data3 = [1, 2, 3, 4, '점심']\n",
    "array3 = np.array(data3)\n",
    "print(array3)"
   ]
  },
  {
   "cell_type": "code",
   "execution_count": null,
   "metadata": {},
   "outputs": [],
   "source": [
    "# 배열의 데이터 타입 확인하기\n",
    "print(\"배열1 :\", array1.dtype)\n",
    "print(\"배열2 :\", array2.dtype)\n",
    "print(\"배열3 :\", array3.dtype)"
   ]
  },
  {
   "cell_type": "code",
   "execution_count": null,
   "metadata": {},
   "outputs": [],
   "source": [
    "# 2차원 배열 만들기\n",
    "array5 = np.array([[1,2,3], [4,5,6], [7,8,9]])\n",
    "print(array5)\n",
    "print(array5.shape)"
   ]
  },
  {
   "cell_type": "code",
   "execution_count": null,
   "metadata": {},
   "outputs": [],
   "source": [
    "name = np.array(['기동', '진수', '정일'])\n",
    "loc = np.array(['동탄', '수원', '청주'])\n",
    "all_data = np.column_stack((name, loc))\n",
    "\n",
    "print(all_data[1])"
   ]
  },
  {
   "cell_type": "code",
   "execution_count": null,
   "metadata": {},
   "outputs": [],
   "source": [
    "# -1 ~ 1 까지 랜덤 숫자로 배열 만들기\n",
    "array6 = np.random.randn(5,5)\n",
    "print(array6)"
   ]
  }
 ],
 "metadata": {
  "interpreter": {
   "hash": "19d1d53a962d236aa061289c2ac16dc8e6d9648c89fe79f459ae9a3493bc67b4"
  },
  "kernelspec": {
   "display_name": "Python 3.9.5 ('base')",
   "language": "python",
   "name": "python3"
  },
  "language_info": {
   "codemirror_mode": {
    "name": "ipython",
    "version": 3
   },
   "file_extension": ".py",
   "mimetype": "text/x-python",
   "name": "python",
   "nbconvert_exporter": "python",
   "pygments_lexer": "ipython3",
   "version": "3.9.5"
  },
  "orig_nbformat": 4
 },
 "nbformat": 4,
 "nbformat_minor": 2
}
